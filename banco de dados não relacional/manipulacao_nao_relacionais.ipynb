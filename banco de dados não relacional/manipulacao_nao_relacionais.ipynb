{
 "cells": [
  {
   "cell_type": "markdown",
   "id": "c9e5516f",
   "metadata": {},
   "source": [
    "1. instalando a biblioteca tinydb"
   ]
  },
  {
   "cell_type": "code",
   "execution_count": 1,
   "id": "a74c29ad",
   "metadata": {},
   "outputs": [
    {
     "name": "stdout",
     "output_type": "stream",
     "text": [
      "Collecting tinydb\n",
      "  Downloading tinydb-4.8.2-py3-none-any.whl.metadata (6.7 kB)\n",
      "Downloading tinydb-4.8.2-py3-none-any.whl (24 kB)\n",
      "Installing collected packages: tinydb\n",
      "Successfully installed tinydb-4.8.2\n"
     ]
    }
   ],
   "source": [
    "!pip install tinydb"
   ]
  },
  {
   "cell_type": "markdown",
   "id": "e22ce4a5",
   "metadata": {},
   "source": [
    "2. Importando as bibliotecas "
   ]
  },
  {
   "cell_type": "code",
   "execution_count": 3,
   "id": "f319b561",
   "metadata": {},
   "outputs": [],
   "source": [
    "import pandas as pd\n",
    "\n",
    "from tinydb import TinyDB, Query"
   ]
  },
  {
   "cell_type": "markdown",
   "id": "7fe2852f",
   "metadata": {},
   "source": [
    "3. criando esquema de banco de dados não relacional"
   ]
  },
  {
   "cell_type": "code",
   "execution_count": 4,
   "id": "699b62b3",
   "metadata": {},
   "outputs": [],
   "source": [
    "engine = TinyDB('monitoramento.json')\n",
    "\n",
    "temperatura = engine.table('temperatura')\n",
    "resultados = engine.table('resultados')"
   ]
  },
  {
   "cell_type": "markdown",
   "id": "0a4efdde",
   "metadata": {},
   "source": [
    "3. criação de conjunto de dados"
   ]
  },
  {
   "cell_type": "code",
   "execution_count": 6,
   "id": "628d0c32",
   "metadata": {},
   "outputs": [],
   "source": [
    "dados = {\n",
    "'codigo': ['M01', 'M02', 'M03', 'M04', 'M05', 'M06', 'M07', 'M08', 'M09',\n",
    "'M10'],\n",
    "'temperatura': [72.5, 68.0, 76.3, 74.0, 78.5, 69.9, 80.1, 73.0, 70.2, 77.5]\n",
    "}\n",
    "\n",
    "dados_temperatura = pd.DataFrame(dados)"
   ]
  },
  {
   "cell_type": "markdown",
   "id": "2f13338b",
   "metadata": {},
   "source": [
    "4. processamento de dados"
   ]
  },
  {
   "cell_type": "code",
   "execution_count": 7,
   "id": "53e0edcc",
   "metadata": {},
   "outputs": [],
   "source": [
    "limite = 75.0\n",
    "\n",
    "dados_temperatura['status'] = 'Segura'\n",
    "\n",
    "dados_temperatura.loc[dados_temperatura['temperatura'] > limite, 'status'] = 'Alerta'\n",
    "\n"
   ]
  },
  {
   "cell_type": "markdown",
   "id": "44ea63a0",
   "metadata": {},
   "source": [
    "5. Estatisticas descritivas"
   ]
  },
  {
   "cell_type": "code",
   "execution_count": 8,
   "id": "bcc38d0e",
   "metadata": {},
   "outputs": [],
   "source": [
    "total = len(dados_temperatura)\n",
    "alerta = dados_temperatura['status'].value_counts().get('Alerta', 0)\n",
    "seguras = dados_temperatura['status'].value_counts().get('Segura', 0)\n",
    "problemas = (alerta/total) * 100\n",
    "\n",
    "dados_resultados = pd.DataFrame({\n",
    "    'total': [total],\n",
    "    'seguras': [seguras],\n",
    "    'alertas': [alerta],\n",
    "    'problemas': [round(problemas, 2)]\n",
    "})"
   ]
  },
  {
   "cell_type": "markdown",
   "id": "666f470e",
   "metadata": {},
   "source": [
    "6. Gravação das informações"
   ]
  },
  {
   "cell_type": "code",
   "execution_count": 9,
   "id": "6c3ad04b",
   "metadata": {},
   "outputs": [
    {
     "name": "stdout",
     "output_type": "stream",
     "text": [
      "Temperaturas de Funcionário das Máquinas\n"
     ]
    },
    {
     "data": {
      "text/plain": [
       "[{'codigo': 'M01', 'temperatura': 72.5, 'status': 'Segura'},\n",
       " {'codigo': 'M02', 'temperatura': 68.0, 'status': 'Segura'},\n",
       " {'codigo': 'M03', 'temperatura': 76.3, 'status': 'Alerta'},\n",
       " {'codigo': 'M04', 'temperatura': 74.0, 'status': 'Segura'},\n",
       " {'codigo': 'M05', 'temperatura': 78.5, 'status': 'Alerta'},\n",
       " {'codigo': 'M06', 'temperatura': 69.9, 'status': 'Segura'},\n",
       " {'codigo': 'M07', 'temperatura': 80.1, 'status': 'Alerta'},\n",
       " {'codigo': 'M08', 'temperatura': 73.0, 'status': 'Segura'},\n",
       " {'codigo': 'M09', 'temperatura': 70.2, 'status': 'Segura'},\n",
       " {'codigo': 'M10', 'temperatura': 77.5, 'status': 'Alerta'}]"
      ]
     },
     "metadata": {},
     "output_type": "display_data"
    },
    {
     "name": "stdout",
     "output_type": "stream",
     "text": [
      "resultados do Monitoramento das Máquinas\n"
     ]
    },
    {
     "data": {
      "text/plain": [
       "[{'total': 10, 'seguras': 6, 'alertas': 4, 'problemas': 40.0}]"
      ]
     },
     "metadata": {},
     "output_type": "display_data"
    },
    {
     "name": "stdout",
     "output_type": "stream",
     "text": [
      "Temperaturas de Funcionamento de Máquina\n"
     ]
    },
    {
     "data": {
      "text/plain": [
       "[{'codigo': 'M01', 'temperatura': 72.5, 'status': 'Segura'},\n",
       " {'codigo': 'M02', 'temperatura': 68.0, 'status': 'Segura'},\n",
       " {'codigo': 'M03', 'temperatura': 76.3, 'status': 'Alerta'},\n",
       " {'codigo': 'M04', 'temperatura': 74.0, 'status': 'Segura'},\n",
       " {'codigo': 'M05', 'temperatura': 78.5, 'status': 'Alerta'},\n",
       " {'codigo': 'M06', 'temperatura': 69.9, 'status': 'Segura'},\n",
       " {'codigo': 'M07', 'temperatura': 80.1, 'status': 'Alerta'},\n",
       " {'codigo': 'M08', 'temperatura': 73.0, 'status': 'Segura'},\n",
       " {'codigo': 'M09', 'temperatura': 70.2, 'status': 'Segura'},\n",
       " {'codigo': 'M10', 'temperatura': 77.5, 'status': 'Alerta'}]"
      ]
     },
     "metadata": {},
     "output_type": "display_data"
    },
    {
     "name": "stdout",
     "output_type": "stream",
     "text": [
      "resultados de monitoramento de Máquinas\n"
     ]
    },
    {
     "data": {
      "text/plain": [
       "[{'total': 10, 'seguras': 6, 'alertas': 4, 'problemas': 40.0}]"
      ]
     },
     "metadata": {},
     "output_type": "display_data"
    }
   ],
   "source": [
    "temperatura.insert_multiple(dados_temperatura.to_dict(orient='records'))\n",
    "resultados.insert_multiple(dados_resultados.to_dict(orient='records'))\n",
    "temperatura_gravados = temperatura.all()\n",
    "resultados_gravados = resultados.all()\n",
    "\n",
    "print('Temperaturas de Funcionário das Máquinas')\n",
    "display(temperatura_gravados)\n",
    "print('resultados do Monitoramento das Máquinas')\n",
    "display(resultados_gravados)\n",
    "\n",
    "print('Temperaturas de Funcionamento de Máquina')\n",
    "display(temperatura_gravados)\n",
    "print('resultados de monitoramento de Máquinas')\n",
    "display(resultados_gravados)\n",
    "      "
   ]
  }
 ],
 "metadata": {
  "kernelspec": {
   "display_name": "Python 3",
   "language": "python",
   "name": "python3"
  },
  "language_info": {
   "codemirror_mode": {
    "name": "ipython",
    "version": 3
   },
   "file_extension": ".py",
   "mimetype": "text/x-python",
   "name": "python",
   "nbconvert_exporter": "python",
   "pygments_lexer": "ipython3",
   "version": "3.13.5"
  }
 },
 "nbformat": 4,
 "nbformat_minor": 5
}
