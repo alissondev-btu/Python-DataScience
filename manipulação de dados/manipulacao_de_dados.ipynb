{
 "cells": [
  {
   "cell_type": "markdown",
   "id": "301226c1",
   "metadata": {},
   "source": [
    "1. Baixando as bibliotecas\n"
   ]
  },
  {
   "cell_type": "code",
   "execution_count": 14,
   "id": "dd51556e",
   "metadata": {},
   "outputs": [
    {
     "name": "stderr",
     "output_type": "stream",
     "text": [
      "ERROR: Could not find a version that satisfies the requirement sqlite3 (from versions: none)\n",
      "ERROR: No matching distribution found for sqlite3\n"
     ]
    },
    {
     "name": "stdout",
     "output_type": "stream",
     "text": [
      "Requirement already satisfied: sqlalchemy in c:\\users\\alisson\\appdata\\local\\programs\\python\\python313\\lib\\site-packages (2.0.43)\n",
      "Requirement already satisfied: greenlet>=1 in c:\\users\\alisson\\appdata\\local\\programs\\python\\python313\\lib\\site-packages (from sqlalchemy) (3.2.4)\n",
      "Requirement already satisfied: typing-extensions>=4.6.0 in c:\\users\\alisson\\appdata\\local\\programs\\python\\python313\\lib\\site-packages (from sqlalchemy) (4.14.1)\n"
     ]
    }
   ],
   "source": [
    "!pip install sqlite3\n",
    "\n",
    "!pip install sqlalchemy"
   ]
  },
  {
   "cell_type": "markdown",
   "id": "5aa796cf",
   "metadata": {},
   "source": [
    "2. importando as bibliotecas"
   ]
  },
  {
   "cell_type": "code",
   "execution_count": 15,
   "id": "39b38b2a",
   "metadata": {},
   "outputs": [],
   "source": [
    "import pandas as pd\n",
    "\n",
    "from sqlalchemy import create_engine"
   ]
  },
  {
   "cell_type": "markdown",
   "id": "e0fd1953",
   "metadata": {},
   "source": [
    "3. criação dos esquemas de banco de dados"
   ]
  },
  {
   "cell_type": "code",
   "execution_count": 16,
   "id": "cb942b98",
   "metadata": {},
   "outputs": [],
   "source": [
    "engine = create_engine('sqlite:///qualidade-automotiva.db')"
   ]
  },
  {
   "cell_type": "markdown",
   "id": "26c4f455",
   "metadata": {},
   "source": [
    "3. criação de conjunto de dados"
   ]
  },
  {
   "cell_type": "code",
   "execution_count": 17,
   "id": "a322d96e",
   "metadata": {},
   "outputs": [
    {
     "data": {
      "text/plain": [
       "10"
      ]
     },
     "execution_count": 17,
     "metadata": {},
     "output_type": "execute_result"
    }
   ],
   "source": [
    "dados = {\n",
    "'codigo': ['P01', 'P02', 'P03', 'P04', 'P05', 'P06', 'P07', 'P08', 'P09',\n",
    "'P10'],\n",
    "'altura': [10.0, 9.8, 10.2, 10.1, 9.7, 10.0, 10.3, 9.9, 10.0, 10.1],\n",
    "'largura': [5.0, 5.1, 5.0, 4.9, 5.2, 5.0, 4.8, 5.0, 5.0, 5.3]\n",
    "}\n",
    "\n",
    "dados_produtos = pd.DataFrame(dados)\n",
    "\n",
    "dados_produtos.to_sql('produtos', con=engine, index=False, if_exists='replace')"
   ]
  },
  {
   "cell_type": "markdown",
   "id": "6a464f68",
   "metadata": {},
   "source": [
    "4. processamento de dados "
   ]
  },
  {
   "cell_type": "code",
   "execution_count": 18,
   "id": "118f7e65",
   "metadata": {},
   "outputs": [
    {
     "data": {
      "text/plain": [
       "10"
      ]
     },
     "execution_count": 18,
     "metadata": {},
     "output_type": "execute_result"
    }
   ],
   "source": [
    "dados_produtos['aprovados'] = (\n",
    "    (dados_produtos['altura'].between(9.9, 10.1))\n",
    "    &\n",
    "    (dados_produtos['largura'].between(4.9, 5.1))\n",
    ")\n",
    "\n",
    "dados_produtos.to_sql('produtos', con=engine, index=False, if_exists='replace')"
   ]
  },
  {
   "cell_type": "markdown",
   "id": "b740aa54",
   "metadata": {},
   "source": [
    "5. estasticas descritivas"
   ]
  },
  {
   "cell_type": "code",
   "execution_count": 22,
   "id": "eb70e900",
   "metadata": {},
   "outputs": [
    {
     "data": {
      "text/plain": [
       "1"
      ]
     },
     "execution_count": 22,
     "metadata": {},
     "output_type": "execute_result"
    }
   ],
   "source": [
    "total = len(dados_produtos)\n",
    "boas = dados_produtos['aprovados'].sum()\n",
    "ruins = total - boas\n",
    "aproveitamento = (boas / total) * 100\n",
    "\n",
    "dados_resultados = pd.DataFrame({\n",
    "'data': '2025-05-30',\n",
    "'total': [total],\n",
    "'boas': [boas],\n",
    "'ruins': [ruins],\n",
    "'aproveitamento': [aproveitamento]\n",
    "})\n",
    "\n",
    "dados_resultados.to_sql('resultados', con=engine, index=False, if_exists='replace')"
   ]
  },
  {
   "cell_type": "markdown",
   "id": "f9096fa1",
   "metadata": {},
   "source": [
    "6. exibir informações"
   ]
  },
  {
   "cell_type": "code",
   "execution_count": 23,
   "id": "913e78f7",
   "metadata": {},
   "outputs": [
    {
     "name": "stdout",
     "output_type": "stream",
     "text": [
      "Peças produzidas\n"
     ]
    },
    {
     "data": {
      "application/vnd.microsoft.datawrangler.viewer.v0+json": {
       "columns": [
        {
         "name": "index",
         "rawType": "int64",
         "type": "integer"
        },
        {
         "name": "codigo",
         "rawType": "object",
         "type": "string"
        },
        {
         "name": "altura",
         "rawType": "float64",
         "type": "float"
        },
        {
         "name": "largura",
         "rawType": "float64",
         "type": "float"
        },
        {
         "name": "aprovados",
         "rawType": "bool",
         "type": "boolean"
        }
       ],
       "ref": "b054c134-2bda-44a7-b5af-3e6b3958fb23",
       "rows": [
        [
         "0",
         "P01",
         "10.0",
         "5.0",
         "True"
        ],
        [
         "1",
         "P02",
         "9.8",
         "5.1",
         "False"
        ],
        [
         "2",
         "P03",
         "10.2",
         "5.0",
         "False"
        ],
        [
         "3",
         "P04",
         "10.1",
         "4.9",
         "True"
        ],
        [
         "4",
         "P05",
         "9.7",
         "5.2",
         "False"
        ],
        [
         "5",
         "P06",
         "10.0",
         "5.0",
         "True"
        ],
        [
         "6",
         "P07",
         "10.3",
         "4.8",
         "False"
        ],
        [
         "7",
         "P08",
         "9.9",
         "5.0",
         "True"
        ],
        [
         "8",
         "P09",
         "10.0",
         "5.0",
         "True"
        ],
        [
         "9",
         "P10",
         "10.1",
         "5.3",
         "False"
        ]
       ],
       "shape": {
        "columns": 4,
        "rows": 10
       }
      },
      "text/html": [
       "<div>\n",
       "<style scoped>\n",
       "    .dataframe tbody tr th:only-of-type {\n",
       "        vertical-align: middle;\n",
       "    }\n",
       "\n",
       "    .dataframe tbody tr th {\n",
       "        vertical-align: top;\n",
       "    }\n",
       "\n",
       "    .dataframe thead th {\n",
       "        text-align: right;\n",
       "    }\n",
       "</style>\n",
       "<table border=\"1\" class=\"dataframe\">\n",
       "  <thead>\n",
       "    <tr style=\"text-align: right;\">\n",
       "      <th></th>\n",
       "      <th>codigo</th>\n",
       "      <th>altura</th>\n",
       "      <th>largura</th>\n",
       "      <th>aprovados</th>\n",
       "    </tr>\n",
       "  </thead>\n",
       "  <tbody>\n",
       "    <tr>\n",
       "      <th>0</th>\n",
       "      <td>P01</td>\n",
       "      <td>10.0</td>\n",
       "      <td>5.0</td>\n",
       "      <td>True</td>\n",
       "    </tr>\n",
       "    <tr>\n",
       "      <th>1</th>\n",
       "      <td>P02</td>\n",
       "      <td>9.8</td>\n",
       "      <td>5.1</td>\n",
       "      <td>False</td>\n",
       "    </tr>\n",
       "    <tr>\n",
       "      <th>2</th>\n",
       "      <td>P03</td>\n",
       "      <td>10.2</td>\n",
       "      <td>5.0</td>\n",
       "      <td>False</td>\n",
       "    </tr>\n",
       "    <tr>\n",
       "      <th>3</th>\n",
       "      <td>P04</td>\n",
       "      <td>10.1</td>\n",
       "      <td>4.9</td>\n",
       "      <td>True</td>\n",
       "    </tr>\n",
       "    <tr>\n",
       "      <th>4</th>\n",
       "      <td>P05</td>\n",
       "      <td>9.7</td>\n",
       "      <td>5.2</td>\n",
       "      <td>False</td>\n",
       "    </tr>\n",
       "    <tr>\n",
       "      <th>5</th>\n",
       "      <td>P06</td>\n",
       "      <td>10.0</td>\n",
       "      <td>5.0</td>\n",
       "      <td>True</td>\n",
       "    </tr>\n",
       "    <tr>\n",
       "      <th>6</th>\n",
       "      <td>P07</td>\n",
       "      <td>10.3</td>\n",
       "      <td>4.8</td>\n",
       "      <td>False</td>\n",
       "    </tr>\n",
       "    <tr>\n",
       "      <th>7</th>\n",
       "      <td>P08</td>\n",
       "      <td>9.9</td>\n",
       "      <td>5.0</td>\n",
       "      <td>True</td>\n",
       "    </tr>\n",
       "    <tr>\n",
       "      <th>8</th>\n",
       "      <td>P09</td>\n",
       "      <td>10.0</td>\n",
       "      <td>5.0</td>\n",
       "      <td>True</td>\n",
       "    </tr>\n",
       "    <tr>\n",
       "      <th>9</th>\n",
       "      <td>P10</td>\n",
       "      <td>10.1</td>\n",
       "      <td>5.3</td>\n",
       "      <td>False</td>\n",
       "    </tr>\n",
       "  </tbody>\n",
       "</table>\n",
       "</div>"
      ],
      "text/plain": [
       "  codigo  altura  largura  aprovados\n",
       "0    P01    10.0      5.0       True\n",
       "1    P02     9.8      5.1      False\n",
       "2    P03    10.2      5.0      False\n",
       "3    P04    10.1      4.9       True\n",
       "4    P05     9.7      5.2      False\n",
       "5    P06    10.0      5.0       True\n",
       "6    P07    10.3      4.8      False\n",
       "7    P08     9.9      5.0       True\n",
       "8    P09    10.0      5.0       True\n",
       "9    P10    10.1      5.3      False"
      ]
     },
     "metadata": {},
     "output_type": "display_data"
    },
    {
     "name": "stdout",
     "output_type": "stream",
     "text": [
      "resultados da produção\n"
     ]
    },
    {
     "data": {
      "application/vnd.microsoft.datawrangler.viewer.v0+json": {
       "columns": [
        {
         "name": "index",
         "rawType": "int64",
         "type": "integer"
        },
        {
         "name": "data",
         "rawType": "object",
         "type": "string"
        },
        {
         "name": "total",
         "rawType": "int64",
         "type": "integer"
        },
        {
         "name": "boas",
         "rawType": "int64",
         "type": "integer"
        },
        {
         "name": "ruins",
         "rawType": "int64",
         "type": "integer"
        },
        {
         "name": "aproveitamento",
         "rawType": "float64",
         "type": "float"
        }
       ],
       "ref": "ff22b1bc-9aac-4443-b13d-30fd906d58d3",
       "rows": [
        [
         "0",
         "2025-05-30",
         "10",
         "5",
         "5",
         "50.0"
        ]
       ],
       "shape": {
        "columns": 5,
        "rows": 1
       }
      },
      "text/html": [
       "<div>\n",
       "<style scoped>\n",
       "    .dataframe tbody tr th:only-of-type {\n",
       "        vertical-align: middle;\n",
       "    }\n",
       "\n",
       "    .dataframe tbody tr th {\n",
       "        vertical-align: top;\n",
       "    }\n",
       "\n",
       "    .dataframe thead th {\n",
       "        text-align: right;\n",
       "    }\n",
       "</style>\n",
       "<table border=\"1\" class=\"dataframe\">\n",
       "  <thead>\n",
       "    <tr style=\"text-align: right;\">\n",
       "      <th></th>\n",
       "      <th>data</th>\n",
       "      <th>total</th>\n",
       "      <th>boas</th>\n",
       "      <th>ruins</th>\n",
       "      <th>aproveitamento</th>\n",
       "    </tr>\n",
       "  </thead>\n",
       "  <tbody>\n",
       "    <tr>\n",
       "      <th>0</th>\n",
       "      <td>2025-05-30</td>\n",
       "      <td>10</td>\n",
       "      <td>5</td>\n",
       "      <td>5</td>\n",
       "      <td>50.0</td>\n",
       "    </tr>\n",
       "  </tbody>\n",
       "</table>\n",
       "</div>"
      ],
      "text/plain": [
       "         data  total  boas  ruins  aproveitamento\n",
       "0  2025-05-30     10     5      5            50.0"
      ]
     },
     "metadata": {},
     "output_type": "display_data"
    }
   ],
   "source": [
    "produtos_gravados = pd.read_sql_table('produtos', con=engine)\n",
    "\n",
    "resultados_gravados = pd.read_sql_table('resultados', con=engine)\n",
    "\n",
    "print('Peças produzidas')\n",
    "display(produtos_gravados)\n",
    "\n",
    "print('resultados da produção')\n",
    "display(resultados_gravados)"
   ]
  }
 ],
 "metadata": {
  "kernelspec": {
   "display_name": "Python 3",
   "language": "python",
   "name": "python3"
  },
  "language_info": {
   "codemirror_mode": {
    "name": "ipython",
    "version": 3
   },
   "file_extension": ".py",
   "mimetype": "text/x-python",
   "name": "python",
   "nbconvert_exporter": "python",
   "pygments_lexer": "ipython3",
   "version": "3.13.5"
  }
 },
 "nbformat": 4,
 "nbformat_minor": 5
}
