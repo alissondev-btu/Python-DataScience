{
 "cells": [
  {
   "cell_type": "markdown",
   "id": "e6504376",
   "metadata": {},
   "source": [
    "#### **Extração, Carregamento e Transformação**"
   ]
  },
  {
   "cell_type": "markdown",
   "id": "a2d2d211",
   "metadata": {},
   "source": [
    "1 - Instalação das Bibliotecas"
   ]
  },
  {
   "cell_type": "code",
   "execution_count": 1,
   "id": "5927c40c",
   "metadata": {},
   "outputs": [
    {
     "name": "stdout",
     "output_type": "stream",
     "text": [
      "Requirement already satisfied: pandas in c:\\users\\alisson\\appdata\\local\\programs\\python\\python313\\lib\\site-packages (2.3.1)\n",
      "Requirement already satisfied: numpy>=1.26.0 in c:\\users\\alisson\\appdata\\local\\programs\\python\\python313\\lib\\site-packages (from pandas) (2.2.6)\n",
      "Requirement already satisfied: python-dateutil>=2.8.2 in c:\\users\\alisson\\appdata\\local\\programs\\python\\python313\\lib\\site-packages (from pandas) (2.9.0.post0)\n",
      "Requirement already satisfied: pytz>=2020.1 in c:\\users\\alisson\\appdata\\local\\programs\\python\\python313\\lib\\site-packages (from pandas) (2025.2)\n",
      "Requirement already satisfied: tzdata>=2022.7 in c:\\users\\alisson\\appdata\\local\\programs\\python\\python313\\lib\\site-packages (from pandas) (2025.2)\n",
      "Requirement already satisfied: six>=1.5 in c:\\users\\alisson\\appdata\\local\\programs\\python\\python313\\lib\\site-packages (from python-dateutil>=2.8.2->pandas) (1.17.0)\n",
      "Requirement already satisfied: openpyxl in c:\\users\\alisson\\appdata\\local\\programs\\python\\python313\\lib\\site-packages (3.1.5)\n",
      "Requirement already satisfied: et-xmlfile in c:\\users\\alisson\\appdata\\local\\programs\\python\\python313\\lib\\site-packages (from openpyxl) (2.0.0)\n"
     ]
    }
   ],
   "source": [
    "# Instalação do Pandas para manipulação de dados.\n",
    "!pip install pandas\n",
    "\n",
    "# Instalação do Open Py XL para gerenciamento de arquivos do Excel.\n",
    "!pip install openpyxl"
   ]
  },
  {
   "cell_type": "markdown",
   "id": "d5c1ad22",
   "metadata": {},
   "source": [
    "2 - Importação das Bibliotecas"
   ]
  },
  {
   "cell_type": "code",
   "execution_count": 2,
   "id": "9673a585",
   "metadata": {},
   "outputs": [],
   "source": [
    "# Importa o Pandas inteiro.\n",
    "import pandas\n",
    "\n",
    "# Importa o Open Py XL inteiro.\n",
    "import openpyxl"
   ]
  },
  {
   "cell_type": "markdown",
   "id": "865bebeb",
   "metadata": {},
   "source": [
    "3 - Extração e Carregamento dos Dados"
   ]
  },
  {
   "cell_type": "code",
   "execution_count": 3,
   "id": "fe26a444",
   "metadata": {},
   "outputs": [
    {
     "data": {
      "application/vnd.microsoft.datawrangler.viewer.v0+json": {
       "columns": [
        {
         "name": "index",
         "rawType": "int64",
         "type": "integer"
        },
        {
         "name": "Unnamed: 0",
         "rawType": "float64",
         "type": "float"
        },
        {
         "name": "Nome do Cliente",
         "rawType": "object",
         "type": "string"
        },
        {
         "name": "Preço Unitário",
         "rawType": "object",
         "type": "unknown"
        },
        {
         "name": "Custo de Envio",
         "rawType": "object",
         "type": "unknown"
        },
        {
         "name": "Categoria do Produto",
         "rawType": "object",
         "type": "string"
        },
        {
         "name": "Nome do Produto",
         "rawType": "object",
         "type": "string"
        },
        {
         "name": "País",
         "rawType": "object",
         "type": "string"
        },
        {
         "name": "Estado",
         "rawType": "object",
         "type": "string"
        },
        {
         "name": "Cidade",
         "rawType": "object",
         "type": "string"
        },
        {
         "name": "Quantidade",
         "rawType": "float64",
         "type": "float"
        },
        {
         "name": "Custo Final",
         "rawType": "float64",
         "type": "float"
        }
       ],
       "ref": "edafa913-92ac-4667-98c0-a19100b95d67",
       "rows": [
        [
         "0",
         null,
         "Bonnie Potter",
         "2.84",
         "0.93",
         "Office Supplies",
         "SANFORD Liquid Accent™ Tank-Style Highlighters",
         "United States",
         "Washington",
         "Anacortes",
         "4.0",
         "8.52"
        ],
        [
         "1",
         null,
         "Ronnie Proctor",
         "500.98",
         "26",
         "Furniture",
         "Global Troy™ Executive Leather Low-Back Tilter",
         "United States",
         "California",
         "San Gabriel",
         "12.0",
         "4508.82"
        ],
        [
         "2",
         null,
         "Marcus Dunlap",
         "9.48",
         "7.29",
         "Furniture",
         "DAX Two-Tone Rosewood/Black Document Frame, Desktop, 5 x 7",
         "United States",
         "New Jersey",
         "Roselle",
         "22.0",
         "156.42000000000002"
        ],
        [
         "3",
         null,
         "Gwendolyn F Tyson",
         "78.69",
         "19.99",
         "Furniture",
         "Howard Miller 12-3/4 Diameter Accuwave DS ™ Wall Clock",
         "United States",
         "Minnesota",
         "Prior Lake",
         "16.0",
         "944.28"
        ],
        [
         "4",
         null,
         "Gwendolyn F Tyson",
         "3.28",
         "2.31",
         "Office Supplies",
         "Newell 321",
         "United States",
         "Minnesota",
         "Prior Lake",
         "7.0",
         "17.22"
        ]
       ],
       "shape": {
        "columns": 11,
        "rows": 5
       }
      },
      "text/html": [
       "<div>\n",
       "<style scoped>\n",
       "    .dataframe tbody tr th:only-of-type {\n",
       "        vertical-align: middle;\n",
       "    }\n",
       "\n",
       "    .dataframe tbody tr th {\n",
       "        vertical-align: top;\n",
       "    }\n",
       "\n",
       "    .dataframe thead th {\n",
       "        text-align: right;\n",
       "    }\n",
       "</style>\n",
       "<table border=\"1\" class=\"dataframe\">\n",
       "  <thead>\n",
       "    <tr style=\"text-align: right;\">\n",
       "      <th></th>\n",
       "      <th>Unnamed: 0</th>\n",
       "      <th>Nome do Cliente</th>\n",
       "      <th>Preço Unitário</th>\n",
       "      <th>Custo de Envio</th>\n",
       "      <th>Categoria do Produto</th>\n",
       "      <th>Nome do Produto</th>\n",
       "      <th>País</th>\n",
       "      <th>Estado</th>\n",
       "      <th>Cidade</th>\n",
       "      <th>Quantidade</th>\n",
       "      <th>Custo Final</th>\n",
       "    </tr>\n",
       "  </thead>\n",
       "  <tbody>\n",
       "    <tr>\n",
       "      <th>0</th>\n",
       "      <td>NaN</td>\n",
       "      <td>Bonnie Potter</td>\n",
       "      <td>2.84</td>\n",
       "      <td>0.93</td>\n",
       "      <td>Office Supplies</td>\n",
       "      <td>SANFORD Liquid Accent™ Tank-Style Highlighters</td>\n",
       "      <td>United States</td>\n",
       "      <td>Washington</td>\n",
       "      <td>Anacortes</td>\n",
       "      <td>4.0</td>\n",
       "      <td>8.52</td>\n",
       "    </tr>\n",
       "    <tr>\n",
       "      <th>1</th>\n",
       "      <td>NaN</td>\n",
       "      <td>Ronnie Proctor</td>\n",
       "      <td>500.98</td>\n",
       "      <td>26</td>\n",
       "      <td>Furniture</td>\n",
       "      <td>Global Troy™ Executive Leather Low-Back Tilter</td>\n",
       "      <td>United States</td>\n",
       "      <td>California</td>\n",
       "      <td>San Gabriel</td>\n",
       "      <td>12.0</td>\n",
       "      <td>4508.82</td>\n",
       "    </tr>\n",
       "    <tr>\n",
       "      <th>2</th>\n",
       "      <td>NaN</td>\n",
       "      <td>Marcus Dunlap</td>\n",
       "      <td>9.48</td>\n",
       "      <td>7.29</td>\n",
       "      <td>Furniture</td>\n",
       "      <td>DAX Two-Tone Rosewood/Black Document Frame, De...</td>\n",
       "      <td>United States</td>\n",
       "      <td>New Jersey</td>\n",
       "      <td>Roselle</td>\n",
       "      <td>22.0</td>\n",
       "      <td>156.42</td>\n",
       "    </tr>\n",
       "    <tr>\n",
       "      <th>3</th>\n",
       "      <td>NaN</td>\n",
       "      <td>Gwendolyn F Tyson</td>\n",
       "      <td>78.69</td>\n",
       "      <td>19.99</td>\n",
       "      <td>Furniture</td>\n",
       "      <td>Howard Miller 12-3/4 Diameter Accuwave DS ™ Wa...</td>\n",
       "      <td>United States</td>\n",
       "      <td>Minnesota</td>\n",
       "      <td>Prior Lake</td>\n",
       "      <td>16.0</td>\n",
       "      <td>944.28</td>\n",
       "    </tr>\n",
       "    <tr>\n",
       "      <th>4</th>\n",
       "      <td>NaN</td>\n",
       "      <td>Gwendolyn F Tyson</td>\n",
       "      <td>3.28</td>\n",
       "      <td>2.31</td>\n",
       "      <td>Office Supplies</td>\n",
       "      <td>Newell 321</td>\n",
       "      <td>United States</td>\n",
       "      <td>Minnesota</td>\n",
       "      <td>Prior Lake</td>\n",
       "      <td>7.0</td>\n",
       "      <td>17.22</td>\n",
       "    </tr>\n",
       "  </tbody>\n",
       "</table>\n",
       "</div>"
      ],
      "text/plain": [
       "   Unnamed: 0    Nome do Cliente Preço Unitário Custo de Envio  \\\n",
       "0         NaN      Bonnie Potter           2.84           0.93   \n",
       "1         NaN     Ronnie Proctor         500.98             26   \n",
       "2         NaN      Marcus Dunlap           9.48           7.29   \n",
       "3         NaN  Gwendolyn F Tyson          78.69          19.99   \n",
       "4         NaN  Gwendolyn F Tyson           3.28           2.31   \n",
       "\n",
       "  Categoria do Produto                                    Nome do Produto  \\\n",
       "0      Office Supplies     SANFORD Liquid Accent™ Tank-Style Highlighters   \n",
       "1            Furniture     Global Troy™ Executive Leather Low-Back Tilter   \n",
       "2            Furniture  DAX Two-Tone Rosewood/Black Document Frame, De...   \n",
       "3            Furniture  Howard Miller 12-3/4 Diameter Accuwave DS ™ Wa...   \n",
       "4      Office Supplies                                         Newell 321   \n",
       "\n",
       "            País      Estado       Cidade  Quantidade  Custo Final  \n",
       "0  United States  Washington    Anacortes         4.0         8.52  \n",
       "1  United States  California  San Gabriel        12.0      4508.82  \n",
       "2  United States  New Jersey      Roselle        22.0       156.42  \n",
       "3  United States   Minnesota   Prior Lake        16.0       944.28  \n",
       "4  United States   Minnesota   Prior Lake         7.0        17.22  "
      ]
     },
     "metadata": {},
     "output_type": "display_data"
    },
    {
     "name": "stdout",
     "output_type": "stream",
     "text": [
      "<class 'pandas.core.frame.DataFrame'>\n",
      "RangeIndex: 1982 entries, 0 to 1981\n",
      "Data columns (total 11 columns):\n",
      " #   Column                Non-Null Count  Dtype  \n",
      "---  ------                --------------  -----  \n",
      " 0   Unnamed: 0            0 non-null      float64\n",
      " 1   Nome do Cliente       1952 non-null   object \n",
      " 2   Preço Unitário        1952 non-null   object \n",
      " 3   Custo de Envio        1952 non-null   object \n",
      " 4   Categoria do Produto  1951 non-null   object \n",
      " 5   Nome do Produto       1932 non-null   object \n",
      " 6   País                  1949 non-null   object \n",
      " 7   Estado                1947 non-null   object \n",
      " 8   Cidade                1946 non-null   object \n",
      " 9   Quantidade            1950 non-null   float64\n",
      " 10  Custo Final           1949 non-null   float64\n",
      "dtypes: float64(3), object(8)\n",
      "memory usage: 170.5+ KB\n"
     ]
    },
    {
     "data": {
      "text/plain": [
       "None"
      ]
     },
     "metadata": {},
     "output_type": "display_data"
    }
   ],
   "source": [
    "# Define o caminho para o arquivo com os dados.\n",
    "arquivo = 'Loja de Varejo.xlsx'\n",
    "\n",
    "# Carrega o arquivo do Excel.\n",
    "df_dados = pandas.read_excel(arquivo, sheet_name='Vendas')\n",
    "\n",
    "# Exibe uma amostra do data frame do Pandas.\n",
    "display(df_dados.head())\n",
    "\n",
    "# Exibe informações detalhadas sobre a estrutura dos dados.\n",
    "display(df_dados.info())"
   ]
  },
  {
   "cell_type": "markdown",
   "id": "bd85ae0c",
   "metadata": {},
   "source": [
    "4 - Limpeza de dados\n",
    "\n",
    "- Remover colunas desnecessárias.\n",
    "- Verificar a existência e remover duplicatas.\n",
    "- Preencher valores ausentes (nulos)."
   ]
  },
  {
   "cell_type": "code",
   "execution_count": 4,
   "id": "d3c0b8ee",
   "metadata": {},
   "outputs": [],
   "source": [
    "# Verifica se existem colunas vazias.\n",
    "if 'Unnamed: 0' in df_dados.columns:\n",
    "\n",
    "    # Remove colunas completamente vazias.\n",
    "    df_dados = df_dados.drop(columns=['Unnamed: 0'])"
   ]
  },
  {
   "cell_type": "code",
   "execution_count": 5,
   "id": "7347c9d1",
   "metadata": {},
   "outputs": [
    {
     "name": "stdout",
     "output_type": "stream",
     "text": [
      "Quantidade de Duplicatas: 20\n"
     ]
    }
   ],
   "source": [
    "# Exibe a quantidade de linhas duplicadas.\n",
    "print(f'Quantidade de Duplicatas: {df_dados.duplicated().sum()}')\n",
    "\n",
    "# Remove as linhas duplicadas.\n",
    "df_dados = df_dados.drop_duplicates()"
   ]
  },
  {
   "cell_type": "code",
   "execution_count": 6,
   "id": "f721d5d8",
   "metadata": {},
   "outputs": [
    {
     "name": "stdout",
     "output_type": "stream",
     "text": [
      "Nome do Cliente         10\n",
      "Preço Unitário          10\n",
      "Custo de Envio          10\n",
      "Categoria do Produto    11\n",
      "Nome do Produto         30\n",
      "País                    13\n",
      "Estado                  15\n",
      "Cidade                  16\n",
      "Quantidade              12\n",
      "Custo Final             13\n",
      "dtype: int64\n"
     ]
    }
   ],
   "source": [
    "# Exibe a quantidade de valores nulos por coluna.\n",
    "print(df_dados.isnull().sum())"
   ]
  },
  {
   "cell_type": "code",
   "execution_count": 7,
   "id": "40198e94",
   "metadata": {},
   "outputs": [],
   "source": [
    "# Preenche valores ausentes usando a mediana.\n",
    "df_dados['Custo de Envio'] = df_dados['Custo de Envio'].fillna(df_dados['Custo de Envio'].median())\n",
    "\n",
    "# Preenche valores ausentes usando a média aritmética.\n",
    "df_dados['Quantidade'] = df_dados['Quantidade'].fillna(df_dados['Quantidade'].mean())"
   ]
  },
  {
   "cell_type": "code",
   "execution_count": 8,
   "id": "3c7ddce8",
   "metadata": {},
   "outputs": [
    {
     "data": {
      "application/vnd.microsoft.datawrangler.viewer.v0+json": {
       "columns": [
        {
         "name": "index",
         "rawType": "int64",
         "type": "integer"
        },
        {
         "name": "Nome do Cliente",
         "rawType": "object",
         "type": "string"
        },
        {
         "name": "Preço Unitário",
         "rawType": "object",
         "type": "unknown"
        },
        {
         "name": "Custo de Envio",
         "rawType": "object",
         "type": "unknown"
        },
        {
         "name": "Categoria do Produto",
         "rawType": "object",
         "type": "string"
        },
        {
         "name": "Nome do Produto",
         "rawType": "object",
         "type": "string"
        },
        {
         "name": "País",
         "rawType": "object",
         "type": "string"
        },
        {
         "name": "Estado",
         "rawType": "object",
         "type": "string"
        },
        {
         "name": "Cidade",
         "rawType": "object",
         "type": "string"
        },
        {
         "name": "Quantidade",
         "rawType": "float64",
         "type": "float"
        },
        {
         "name": "Custo Final",
         "rawType": "float64",
         "type": "float"
        }
       ],
       "ref": "ee688dc7-54d8-48c3-a1b6-12e7e4b9a961",
       "rows": [
        [
         "0",
         "Bonnie Potter",
         "2.84",
         "0.93",
         "Office Supplies",
         "SANFORD Liquid Accent™ Tank-Style Highlighters",
         "United States",
         "Washington",
         "Anacortes",
         "4.0",
         "8.52"
        ],
        [
         "1",
         "Ronnie Proctor",
         "500.98",
         "26",
         "Furniture",
         "Global Troy™ Executive Leather Low-Back Tilter",
         "United States",
         "California",
         "San Gabriel",
         "12.0",
         "4508.82"
        ],
        [
         "2",
         "Marcus Dunlap",
         "9.48",
         "7.29",
         "Furniture",
         "DAX Two-Tone Rosewood/Black Document Frame, Desktop, 5 x 7",
         "United States",
         "New Jersey",
         "Roselle",
         "22.0",
         "156.42000000000002"
        ],
        [
         "3",
         "Gwendolyn F Tyson",
         "78.69",
         "19.99",
         "Furniture",
         "Howard Miller 12-3/4 Diameter Accuwave DS ™ Wall Clock",
         "United States",
         "Minnesota",
         "Prior Lake",
         "16.0",
         "944.28"
        ],
        [
         "4",
         "Gwendolyn F Tyson",
         "3.28",
         "2.31",
         "Office Supplies",
         "Newell 321",
         "United States",
         "Minnesota",
         "Prior Lake",
         "7.0",
         "17.22"
        ]
       ],
       "shape": {
        "columns": 10,
        "rows": 5
       }
      },
      "text/html": [
       "<div>\n",
       "<style scoped>\n",
       "    .dataframe tbody tr th:only-of-type {\n",
       "        vertical-align: middle;\n",
       "    }\n",
       "\n",
       "    .dataframe tbody tr th {\n",
       "        vertical-align: top;\n",
       "    }\n",
       "\n",
       "    .dataframe thead th {\n",
       "        text-align: right;\n",
       "    }\n",
       "</style>\n",
       "<table border=\"1\" class=\"dataframe\">\n",
       "  <thead>\n",
       "    <tr style=\"text-align: right;\">\n",
       "      <th></th>\n",
       "      <th>Nome do Cliente</th>\n",
       "      <th>Preço Unitário</th>\n",
       "      <th>Custo de Envio</th>\n",
       "      <th>Categoria do Produto</th>\n",
       "      <th>Nome do Produto</th>\n",
       "      <th>País</th>\n",
       "      <th>Estado</th>\n",
       "      <th>Cidade</th>\n",
       "      <th>Quantidade</th>\n",
       "      <th>Custo Final</th>\n",
       "    </tr>\n",
       "  </thead>\n",
       "  <tbody>\n",
       "    <tr>\n",
       "      <th>0</th>\n",
       "      <td>Bonnie Potter</td>\n",
       "      <td>2.84</td>\n",
       "      <td>0.93</td>\n",
       "      <td>Office Supplies</td>\n",
       "      <td>SANFORD Liquid Accent™ Tank-Style Highlighters</td>\n",
       "      <td>United States</td>\n",
       "      <td>Washington</td>\n",
       "      <td>Anacortes</td>\n",
       "      <td>4.0</td>\n",
       "      <td>8.52</td>\n",
       "    </tr>\n",
       "    <tr>\n",
       "      <th>1</th>\n",
       "      <td>Ronnie Proctor</td>\n",
       "      <td>500.98</td>\n",
       "      <td>26</td>\n",
       "      <td>Furniture</td>\n",
       "      <td>Global Troy™ Executive Leather Low-Back Tilter</td>\n",
       "      <td>United States</td>\n",
       "      <td>California</td>\n",
       "      <td>San Gabriel</td>\n",
       "      <td>12.0</td>\n",
       "      <td>4508.82</td>\n",
       "    </tr>\n",
       "    <tr>\n",
       "      <th>2</th>\n",
       "      <td>Marcus Dunlap</td>\n",
       "      <td>9.48</td>\n",
       "      <td>7.29</td>\n",
       "      <td>Furniture</td>\n",
       "      <td>DAX Two-Tone Rosewood/Black Document Frame, De...</td>\n",
       "      <td>United States</td>\n",
       "      <td>New Jersey</td>\n",
       "      <td>Roselle</td>\n",
       "      <td>22.0</td>\n",
       "      <td>156.42</td>\n",
       "    </tr>\n",
       "    <tr>\n",
       "      <th>3</th>\n",
       "      <td>Gwendolyn F Tyson</td>\n",
       "      <td>78.69</td>\n",
       "      <td>19.99</td>\n",
       "      <td>Furniture</td>\n",
       "      <td>Howard Miller 12-3/4 Diameter Accuwave DS ™ Wa...</td>\n",
       "      <td>United States</td>\n",
       "      <td>Minnesota</td>\n",
       "      <td>Prior Lake</td>\n",
       "      <td>16.0</td>\n",
       "      <td>944.28</td>\n",
       "    </tr>\n",
       "    <tr>\n",
       "      <th>4</th>\n",
       "      <td>Gwendolyn F Tyson</td>\n",
       "      <td>3.28</td>\n",
       "      <td>2.31</td>\n",
       "      <td>Office Supplies</td>\n",
       "      <td>Newell 321</td>\n",
       "      <td>United States</td>\n",
       "      <td>Minnesota</td>\n",
       "      <td>Prior Lake</td>\n",
       "      <td>7.0</td>\n",
       "      <td>17.22</td>\n",
       "    </tr>\n",
       "  </tbody>\n",
       "</table>\n",
       "</div>"
      ],
      "text/plain": [
       "     Nome do Cliente Preço Unitário Custo de Envio Categoria do Produto  \\\n",
       "0      Bonnie Potter           2.84           0.93      Office Supplies   \n",
       "1     Ronnie Proctor         500.98             26            Furniture   \n",
       "2      Marcus Dunlap           9.48           7.29            Furniture   \n",
       "3  Gwendolyn F Tyson          78.69          19.99            Furniture   \n",
       "4  Gwendolyn F Tyson           3.28           2.31      Office Supplies   \n",
       "\n",
       "                                     Nome do Produto           País  \\\n",
       "0     SANFORD Liquid Accent™ Tank-Style Highlighters  United States   \n",
       "1     Global Troy™ Executive Leather Low-Back Tilter  United States   \n",
       "2  DAX Two-Tone Rosewood/Black Document Frame, De...  United States   \n",
       "3  Howard Miller 12-3/4 Diameter Accuwave DS ™ Wa...  United States   \n",
       "4                                         Newell 321  United States   \n",
       "\n",
       "       Estado       Cidade  Quantidade  Custo Final  \n",
       "0  Washington    Anacortes         4.0         8.52  \n",
       "1  California  San Gabriel        12.0      4508.82  \n",
       "2  New Jersey      Roselle        22.0       156.42  \n",
       "3   Minnesota   Prior Lake        16.0       944.28  \n",
       "4   Minnesota   Prior Lake         7.0        17.22  "
      ]
     },
     "metadata": {},
     "output_type": "display_data"
    }
   ],
   "source": [
    "# Exibe o conjunto de dados após a execução dos processos de limpeza.\n",
    "display(df_dados.head())"
   ]
  },
  {
   "cell_type": "markdown",
   "id": "b4689e37",
   "metadata": {},
   "source": [
    "5 - Transformação dos Dados\n",
    "\n",
    "- Realizar a tipagem dos dados para evitar erros.\n",
    "- Remover dados vazios remanescentes.\n",
    "- Calcular o lucro bruto (Preço Final - (Preço Unitário x Quantidade + Custo de Envio)).\n",
    "- Ordenar os dados do maior para o menor lucro bruto."
   ]
  },
  {
   "cell_type": "code",
   "execution_count": 9,
   "id": "6a4eb3a2",
   "metadata": {},
   "outputs": [
    {
     "data": {
      "application/vnd.microsoft.datawrangler.viewer.v0+json": {
       "columns": [
        {
         "name": "index",
         "rawType": "object",
         "type": "string"
        },
        {
         "name": "0",
         "rawType": "object",
         "type": "unknown"
        }
       ],
       "ref": "6d691516-37f4-4fd6-ab7a-d9f05b42fdcd",
       "rows": [
        [
         "Nome do Cliente",
         "object"
        ],
        [
         "Preço Unitário",
         "object"
        ],
        [
         "Custo de Envio",
         "object"
        ],
        [
         "Categoria do Produto",
         "object"
        ],
        [
         "Nome do Produto",
         "object"
        ],
        [
         "País",
         "object"
        ],
        [
         "Estado",
         "object"
        ],
        [
         "Cidade",
         "object"
        ],
        [
         "Quantidade",
         "float64"
        ],
        [
         "Custo Final",
         "float64"
        ]
       ],
       "shape": {
        "columns": 1,
        "rows": 10
       }
      },
      "text/plain": [
       "Nome do Cliente          object\n",
       "Preço Unitário           object\n",
       "Custo de Envio           object\n",
       "Categoria do Produto     object\n",
       "Nome do Produto          object\n",
       "País                     object\n",
       "Estado                   object\n",
       "Cidade                   object\n",
       "Quantidade              float64\n",
       "Custo Final             float64\n",
       "dtype: object"
      ]
     },
     "metadata": {},
     "output_type": "display_data"
    }
   ],
   "source": [
    "# Exibe o tipo de dados de cada coluna do data frame.\n",
    "display(df_dados.dtypes)\n",
    "\n",
    "# Converte as colunas textuais para numéricas.\n",
    "df_dados['Preço Unitário'] = pandas.to_numeric(df_dados['Preço Unitário'], errors='coerce')\n",
    "df_dados['Custo de Envio'] = pandas.to_numeric(df_dados['Custo de Envio'], errors='coerce')"
   ]
  },
  {
   "cell_type": "code",
   "execution_count": 10,
   "id": "dd36aa84",
   "metadata": {},
   "outputs": [
    {
     "name": "stdout",
     "output_type": "stream",
     "text": [
      "Nome do Cliente         10\n",
      "Preço Unitário          13\n",
      "Custo de Envio           4\n",
      "Categoria do Produto    11\n",
      "Nome do Produto         30\n",
      "País                    13\n",
      "Estado                  15\n",
      "Cidade                  16\n",
      "Quantidade               0\n",
      "Custo Final             13\n",
      "dtype: int64\n"
     ]
    }
   ],
   "source": [
    "# Exibe a quantidade de valores nulos por coluna.\n",
    "print(df_dados.isnull().sum())\n",
    "\n",
    "# Remove a linha inteira caso tenha algum valor nulo.\n",
    "df_dados = df_dados.dropna()"
   ]
  },
  {
   "cell_type": "code",
   "execution_count": 12,
   "id": "ccad32ce",
   "metadata": {},
   "outputs": [],
   "source": [
    "# Cria uma nova coluna contendo o cálculo do Lucro Bruto.\n",
    "df_dados['Lucro Bruto'] = df_dados['Custo Final'] - (df_dados['Preço Unitário'] * df_dados['Quantidade'] + df_dados['Custo de Envio'])\n",
    "\n",
    "# Arredonda o Lucro Bruto para duas casa decimais.\n",
    "df_dados['Lucro Bruto'] = df_dados['Lucro Bruto'].round(2)"
   ]
  },
  {
   "cell_type": "code",
   "execution_count": 13,
   "id": "f7d03330",
   "metadata": {},
   "outputs": [
    {
     "data": {
      "application/vnd.microsoft.datawrangler.viewer.v0+json": {
       "columns": [
        {
         "name": "index",
         "rawType": "int64",
         "type": "integer"
        },
        {
         "name": "Nome do Cliente",
         "rawType": "object",
         "type": "string"
        },
        {
         "name": "Preço Unitário",
         "rawType": "float64",
         "type": "float"
        },
        {
         "name": "Custo de Envio",
         "rawType": "float64",
         "type": "float"
        },
        {
         "name": "Categoria do Produto",
         "rawType": "object",
         "type": "string"
        },
        {
         "name": "Nome do Produto",
         "rawType": "object",
         "type": "string"
        },
        {
         "name": "País",
         "rawType": "object",
         "type": "string"
        },
        {
         "name": "Estado",
         "rawType": "object",
         "type": "string"
        },
        {
         "name": "Cidade",
         "rawType": "object",
         "type": "string"
        },
        {
         "name": "Quantidade",
         "rawType": "float64",
         "type": "float"
        },
        {
         "name": "Custo Final",
         "rawType": "float64",
         "type": "float"
        },
        {
         "name": "Lucro Bruto",
         "rawType": "float64",
         "type": "float"
        }
       ],
       "ref": "70845d24-7623-4fc6-a472-7dcf74b76758",
       "rows": [
        [
         "0",
         "Bonnie Potter",
         "2.84",
         "0.93",
         "Office Supplies",
         "SANFORD Liquid Accent™ Tank-Style Highlighters",
         "United States",
         "Washington",
         "Anacortes",
         "4.0",
         "8.52",
         "-3.77"
        ],
        [
         "1",
         "Ronnie Proctor",
         "500.98",
         "26.0",
         "Furniture",
         "Global Troy™ Executive Leather Low-Back Tilter",
         "United States",
         "California",
         "San Gabriel",
         "12.0",
         "4508.82",
         "-1528.94"
        ],
        [
         "2",
         "Marcus Dunlap",
         "9.48",
         "7.29",
         "Furniture",
         "DAX Two-Tone Rosewood/Black Document Frame, Desktop, 5 x 7",
         "United States",
         "New Jersey",
         "Roselle",
         "22.0",
         "156.42000000000002",
         "-59.43"
        ],
        [
         "3",
         "Gwendolyn F Tyson",
         "78.69",
         "19.99",
         "Furniture",
         "Howard Miller 12-3/4 Diameter Accuwave DS ™ Wall Clock",
         "United States",
         "Minnesota",
         "Prior Lake",
         "16.0",
         "944.28",
         "-334.75"
        ],
        [
         "4",
         "Gwendolyn F Tyson",
         "3.28",
         "2.31",
         "Office Supplies",
         "Newell 321",
         "United States",
         "Minnesota",
         "Prior Lake",
         "7.0",
         "17.22",
         "-8.05"
        ]
       ],
       "shape": {
        "columns": 11,
        "rows": 5
       }
      },
      "text/html": [
       "<div>\n",
       "<style scoped>\n",
       "    .dataframe tbody tr th:only-of-type {\n",
       "        vertical-align: middle;\n",
       "    }\n",
       "\n",
       "    .dataframe tbody tr th {\n",
       "        vertical-align: top;\n",
       "    }\n",
       "\n",
       "    .dataframe thead th {\n",
       "        text-align: right;\n",
       "    }\n",
       "</style>\n",
       "<table border=\"1\" class=\"dataframe\">\n",
       "  <thead>\n",
       "    <tr style=\"text-align: right;\">\n",
       "      <th></th>\n",
       "      <th>Nome do Cliente</th>\n",
       "      <th>Preço Unitário</th>\n",
       "      <th>Custo de Envio</th>\n",
       "      <th>Categoria do Produto</th>\n",
       "      <th>Nome do Produto</th>\n",
       "      <th>País</th>\n",
       "      <th>Estado</th>\n",
       "      <th>Cidade</th>\n",
       "      <th>Quantidade</th>\n",
       "      <th>Custo Final</th>\n",
       "      <th>Lucro Bruto</th>\n",
       "    </tr>\n",
       "  </thead>\n",
       "  <tbody>\n",
       "    <tr>\n",
       "      <th>0</th>\n",
       "      <td>Bonnie Potter</td>\n",
       "      <td>2.84</td>\n",
       "      <td>0.93</td>\n",
       "      <td>Office Supplies</td>\n",
       "      <td>SANFORD Liquid Accent™ Tank-Style Highlighters</td>\n",
       "      <td>United States</td>\n",
       "      <td>Washington</td>\n",
       "      <td>Anacortes</td>\n",
       "      <td>4.0</td>\n",
       "      <td>8.52</td>\n",
       "      <td>-3.77</td>\n",
       "    </tr>\n",
       "    <tr>\n",
       "      <th>1</th>\n",
       "      <td>Ronnie Proctor</td>\n",
       "      <td>500.98</td>\n",
       "      <td>26.00</td>\n",
       "      <td>Furniture</td>\n",
       "      <td>Global Troy™ Executive Leather Low-Back Tilter</td>\n",
       "      <td>United States</td>\n",
       "      <td>California</td>\n",
       "      <td>San Gabriel</td>\n",
       "      <td>12.0</td>\n",
       "      <td>4508.82</td>\n",
       "      <td>-1528.94</td>\n",
       "    </tr>\n",
       "    <tr>\n",
       "      <th>2</th>\n",
       "      <td>Marcus Dunlap</td>\n",
       "      <td>9.48</td>\n",
       "      <td>7.29</td>\n",
       "      <td>Furniture</td>\n",
       "      <td>DAX Two-Tone Rosewood/Black Document Frame, De...</td>\n",
       "      <td>United States</td>\n",
       "      <td>New Jersey</td>\n",
       "      <td>Roselle</td>\n",
       "      <td>22.0</td>\n",
       "      <td>156.42</td>\n",
       "      <td>-59.43</td>\n",
       "    </tr>\n",
       "    <tr>\n",
       "      <th>3</th>\n",
       "      <td>Gwendolyn F Tyson</td>\n",
       "      <td>78.69</td>\n",
       "      <td>19.99</td>\n",
       "      <td>Furniture</td>\n",
       "      <td>Howard Miller 12-3/4 Diameter Accuwave DS ™ Wa...</td>\n",
       "      <td>United States</td>\n",
       "      <td>Minnesota</td>\n",
       "      <td>Prior Lake</td>\n",
       "      <td>16.0</td>\n",
       "      <td>944.28</td>\n",
       "      <td>-334.75</td>\n",
       "    </tr>\n",
       "    <tr>\n",
       "      <th>4</th>\n",
       "      <td>Gwendolyn F Tyson</td>\n",
       "      <td>3.28</td>\n",
       "      <td>2.31</td>\n",
       "      <td>Office Supplies</td>\n",
       "      <td>Newell 321</td>\n",
       "      <td>United States</td>\n",
       "      <td>Minnesota</td>\n",
       "      <td>Prior Lake</td>\n",
       "      <td>7.0</td>\n",
       "      <td>17.22</td>\n",
       "      <td>-8.05</td>\n",
       "    </tr>\n",
       "  </tbody>\n",
       "</table>\n",
       "</div>"
      ],
      "text/plain": [
       "     Nome do Cliente  Preço Unitário  Custo de Envio Categoria do Produto  \\\n",
       "0      Bonnie Potter            2.84            0.93      Office Supplies   \n",
       "1     Ronnie Proctor          500.98           26.00            Furniture   \n",
       "2      Marcus Dunlap            9.48            7.29            Furniture   \n",
       "3  Gwendolyn F Tyson           78.69           19.99            Furniture   \n",
       "4  Gwendolyn F Tyson            3.28            2.31      Office Supplies   \n",
       "\n",
       "                                     Nome do Produto           País  \\\n",
       "0     SANFORD Liquid Accent™ Tank-Style Highlighters  United States   \n",
       "1     Global Troy™ Executive Leather Low-Back Tilter  United States   \n",
       "2  DAX Two-Tone Rosewood/Black Document Frame, De...  United States   \n",
       "3  Howard Miller 12-3/4 Diameter Accuwave DS ™ Wa...  United States   \n",
       "4                                         Newell 321  United States   \n",
       "\n",
       "       Estado       Cidade  Quantidade  Custo Final  Lucro Bruto  \n",
       "0  Washington    Anacortes         4.0         8.52        -3.77  \n",
       "1  California  San Gabriel        12.0      4508.82     -1528.94  \n",
       "2  New Jersey      Roselle        22.0       156.42       -59.43  \n",
       "3   Minnesota   Prior Lake        16.0       944.28      -334.75  \n",
       "4   Minnesota   Prior Lake         7.0        17.22        -8.05  "
      ]
     },
     "metadata": {},
     "output_type": "display_data"
    }
   ],
   "source": [
    "# Classificação dos dados do maior para o menor Lucro Bruto.\n",
    "df_ordenado = df_dados.sort_values(by='Lucro Bruto', ascending=False)\n",
    "\n",
    "# Exibe o conjunto de dados após a execução dos processos de limpeza.\n",
    "display(df_dados.head())"
   ]
  },
  {
   "cell_type": "markdown",
   "id": "3d3b4c58",
   "metadata": {},
   "source": [
    "6 - Exportação dos Resultados para o Excel"
   ]
  },
  {
   "cell_type": "code",
   "execution_count": 14,
   "id": "034b50b8",
   "metadata": {},
   "outputs": [],
   "source": [
    "# Cria um arquivo do Excel com os dados já tratados.\n",
    "df_ordenado.to_excel('Loja de Varejo - Tratado.xlsx', index=False)"
   ]
  }
 ],
 "metadata": {
  "kernelspec": {
   "display_name": "Python 3",
   "language": "python",
   "name": "python3"
  },
  "language_info": {
   "codemirror_mode": {
    "name": "ipython",
    "version": 3
   },
   "file_extension": ".py",
   "mimetype": "text/x-python",
   "name": "python",
   "nbconvert_exporter": "python",
   "pygments_lexer": "ipython3",
   "version": "3.13.5"
  }
 },
 "nbformat": 4,
 "nbformat_minor": 5
}
